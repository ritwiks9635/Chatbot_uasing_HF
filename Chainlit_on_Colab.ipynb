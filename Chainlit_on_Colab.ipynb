{
  "nbformat": 4,
  "nbformat_minor": 0,
  "metadata": {
    "colab": {
      "provenance": [],
      "include_colab_link": true
    },
    "kernelspec": {
      "name": "python3",
      "display_name": "Python 3"
    },
    "language_info": {
      "name": "python"
    }
  },
  "cells": [
    {
      "cell_type": "markdown",
      "metadata": {
        "id": "view-in-github",
        "colab_type": "text"
      },
      "source": [
        "<a href=\"https://colab.research.google.com/github/ritwiks9635/Chatbot_uasing_HF/blob/main/Chainlit_on_Colab.ipynb\" target=\"_parent\"><img src=\"https://colab.research.google.com/assets/colab-badge.svg\" alt=\"Open In Colab\"/></a>"
      ]
    },
    {
      "cell_type": "code",
      "execution_count": null,
      "metadata": {
        "id": "AQElDQNdKkkc"
      },
      "outputs": [],
      "source": [
        "!pip install langchain chainlit pyngrok openai google-search-results"
      ]
    },
    {
      "cell_type": "code",
      "source": [
        "%%writefile app.py\n",
        "from langchain import OpenAI, LLMMathChain, SerpAPIWrapper\n",
        "from langchain.agents import initialize_agent, Tool, AgentExecutor\n",
        "from langchain.chat_models import ChatOpenAI\n",
        "import os\n",
        "import chainlit as cl\n",
        "import openai\n",
        "\n",
        "os.environ[\"OPENAI_API_KEY\"] = \"OPENAI_API_KEY\"\n",
        "os.environ[\"SERPAPI_API_KEY\"] = \"SERPAPI_API_KEY\"\n",
        "\n",
        "\n",
        "@cl.on_chat_start\n",
        "def start():\n",
        "    llm = ChatOpenAI(temperature=0, streaming=True)\n",
        "    llm1 = OpenAI(temperature=0, streaming=True)\n",
        "    search = SerpAPIWrapper()\n",
        "    llm_math_chain = LLMMathChain.from_llm(llm=llm, verbose=True)\n",
        "\n",
        "    tools = [\n",
        "        Tool(\n",
        "            name=\"Search\",\n",
        "            func=search.run,\n",
        "            description=\"useful for when you need to answer questions about current events. You should ask targeted questions\",\n",
        "        ),\n",
        "        Tool(\n",
        "            name=\"Calculator\",\n",
        "            func=llm_math_chain.run,\n",
        "            description=\"useful for when you need to answer questions about math\",\n",
        "        ),\n",
        "    ]\n",
        "    agent = initialize_agent(\n",
        "        tools, llm1, agent=\"chat-zero-shot-react-description\", verbose=True\n",
        "    )\n",
        "    cl.user_session.set(\"agent\", agent)\n",
        "\n",
        "\n",
        "@cl.on_message\n",
        "async def main(message):\n",
        "    agent = cl.user_session.get(\"agent\")  # type: AgentExecutor\n",
        "    cb = cl.LangchainCallbackHandler(stream_final_answer=True)\n",
        "\n",
        "    await cl.make_async(agent.run)(message, callbacks=[cb])"
      ],
      "metadata": {
        "colab": {
          "base_uri": "https://localhost:8080/"
        },
        "id": "GEJT2u3CLdcs",
        "outputId": "3a1d1bb3-02e0-49a4-e52a-0a68a9c97315"
      },
      "execution_count": null,
      "outputs": [
        {
          "output_type": "stream",
          "name": "stdout",
          "text": [
            "Writing app.py\n"
          ]
        }
      ]
    },
    {
      "cell_type": "code",
      "source": [
        "!chainlit run app.py &>/content/logs.txt &"
      ],
      "metadata": {
        "id": "e6c-AjvZNcPP"
      },
      "execution_count": null,
      "outputs": []
    },
    {
      "cell_type": "code",
      "source": [
        "!ngrok config add-authtoken Your_Authotoken"
      ],
      "metadata": {
        "colab": {
          "base_uri": "https://localhost:8080/"
        },
        "id": "VLvlvLIiQSy-",
        "outputId": "01a3caed-d3c4-40e1-f4de-ba0a010058de"
      },
      "execution_count": null,
      "outputs": [
        {
          "output_type": "stream",
          "name": "stdout",
          "text": [
            "Authtoken saved to configuration file: /root/.ngrok2/ngrok.yml\n"
          ]
        }
      ]
    },
    {
      "cell_type": "code",
      "source": [
        "from pyngrok import ngrok\n",
        "ngrok_tunnel = ngrok.connect(8000)\n",
        "print('Public URL:', ngrok_tunnel.public_url)"
      ],
      "metadata": {
        "colab": {
          "base_uri": "https://localhost:8080/"
        },
        "id": "VQkcEbofMOil",
        "outputId": "71dd6ef7-37c7-48a2-a678-41ff3eec2b21"
      },
      "execution_count": null,
      "outputs": [
        {
          "output_type": "stream",
          "name": "stderr",
          "text": [
            "WARNING:pyngrok.process.ngrok:t=2023-08-23T11:22:55+0000 lvl=warn msg=\"ngrok config file found at legacy location, move to XDG location\" xdg_path=/root/.config/ngrok/ngrok.yml legacy_path=/root/.ngrok2/ngrok.yml\n"
          ]
        },
        {
          "output_type": "stream",
          "name": "stdout",
          "text": [
            "Public URL: https://48ed-34-67-232-63.ngrok-free.app\n"
          ]
        }
      ]
    },
    {
      "cell_type": "code",
      "source": [
        "ngrok.kill()"
      ],
      "metadata": {
        "id": "QqVSwvX4QhJv"
      },
      "execution_count": null,
      "outputs": []
    }
  ]
}