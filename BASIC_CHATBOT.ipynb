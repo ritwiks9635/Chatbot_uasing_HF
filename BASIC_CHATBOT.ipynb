{
  "cells": [
    {
      "cell_type": "markdown",
      "metadata": {
        "id": "view-in-github",
        "colab_type": "text"
      },
      "source": [
        "<a href=\"https://colab.research.google.com/github/ritwiks9635/Chatbot_uasing_HF/blob/main/BASIC_CHATBOT.ipynb\" target=\"_parent\"><img src=\"https://colab.research.google.com/assets/colab-badge.svg\" alt=\"Open In Colab\"/></a>"
      ]
    },
    {
      "cell_type": "markdown",
      "source": [
        "#**Chatbot using 🤗Huggingface🤗**"
      ],
      "metadata": {
        "id": "IJ1pQJXbMgkw"
      }
    },
    {
      "cell_type": "code",
      "source": [
        "from transformers.utils import logging\n",
        "logging.set_verbosity_error()"
      ],
      "metadata": {
        "id": "puWRUmdDOGNJ"
      },
      "execution_count": 1,
      "outputs": []
    },
    {
      "cell_type": "markdown",
      "source": [
        "🤖 Transformers library simplifies natural language processing tasks with its pipeline function, enabling easy implementation of state-of-the-art models in just a few lines of code."
      ],
      "metadata": {
        "id": "x9mk5fAyQD_n"
      }
    },
    {
      "cell_type": "code",
      "source": [
        "from transformers import pipeline"
      ],
      "metadata": {
        "id": "JFaGyRN1OJv0"
      },
      "execution_count": 2,
      "outputs": []
    },
    {
      "cell_type": "markdown",
      "source": [
        "###**Define Conversation Pipeline**\n",
        "**Pretrained Model: 👇**\n",
        "- blenderbot-400M-distill: [](https://huggingface.co/facebook/blenderbot-400M-distill/tree/main)\n",
        "- ./models/facebook/blenderbot-400M-distill: path directory for specific model"
      ],
      "metadata": {
        "id": "5-DOr7SGQOnU"
      }
    },
    {
      "cell_type": "code",
      "source": [
        "chatbot = pipeline(task = \"conversational\", model = \"facebook/blenderbot-400M-distill\")"
      ],
      "metadata": {
        "id": "RnplxXJKOPXz"
      },
      "execution_count": null,
      "outputs": []
    },
    {
      "cell_type": "code",
      "source": [
        "print(f\"chatbot pipeline {chatbot} memory address\")"
      ],
      "metadata": {
        "colab": {
          "base_uri": "https://localhost:8080/"
        },
        "id": "6H4i_wY4PGRn",
        "outputId": "d58c0124-ec92-4dbf-ba51-def61d231c60"
      },
      "execution_count": 5,
      "outputs": [
        {
          "output_type": "stream",
          "name": "stdout",
          "text": [
            "chatbot pipeline <transformers.pipelines.conversational.ConversationalPipeline object at 0x7db078e3ffa0> memory address\n"
          ]
        }
      ]
    },
    {
      "cell_type": "code",
      "source": [
        "user_message = \"\"\"\n",
        "What would be the best activities in our leisure time?\n",
        "\n",
        "\"\"\""
      ],
      "metadata": {
        "id": "fe4XpjH7PT3X"
      },
      "execution_count": 6,
      "outputs": []
    },
    {
      "cell_type": "markdown",
      "source": [
        "📚 Indicates the import of the Conversation class from the Hugging Face Transformers library. This class is typically used to represent conversational contexts or histories in chatbot applications, enabling the model to generate responses in a conversation-aware manner.👇"
      ],
      "metadata": {
        "id": "IFMYYRu7Qo8i"
      }
    },
    {
      "cell_type": "code",
      "source": [
        "from transformers import Conversation"
      ],
      "metadata": {
        "id": "YsKUpiL6PYN0"
      },
      "execution_count": 7,
      "outputs": []
    },
    {
      "cell_type": "code",
      "source": [
        "conversation = Conversation(user_message)"
      ],
      "metadata": {
        "id": "UlRhLF5XPk9Z"
      },
      "execution_count": 8,
      "outputs": []
    },
    {
      "cell_type": "code",
      "source": [
        "print(f\"user message as conversation:\\n {conversation}\")"
      ],
      "metadata": {
        "colab": {
          "base_uri": "https://localhost:8080/"
        },
        "id": "0Q25ehoJPooa",
        "outputId": "fdb76545-3270-4c36-e730-bf1635c3f5ab"
      },
      "execution_count": 9,
      "outputs": [
        {
          "output_type": "stream",
          "name": "stdout",
          "text": [
            "user message as conversation:\n",
            " Conversation id: 92f5df4c-debc-48b6-aa99-429a0ff8edb8\n",
            "user: \n",
            "What would be the best activities in our leisure time?\n",
            "\n",
            "\n",
            "\n"
          ]
        }
      ]
    },
    {
      "cell_type": "markdown",
      "source": [
        "📌 note: The \"Conversation id: 6acd6918-bcf8-4524-86c7-92455c585f7b\" is a unique identifier assigned to a specific conversation or chat session. This ID helps to distinguish between different conversations, allowing systems to keep track of individual interactions, manage context, or log conversations for analysis or debugging purposes."
      ],
      "metadata": {
        "id": "tF-Fr6HiP7ko"
      }
    },
    {
      "cell_type": "markdown",
      "source": [
        "Integrating the user Conversation with Chatbot model. 🔄 By passing the conversation through the chatbot, conversation = chatbot(conversation) fosters continuous interaction, refining context for smoother dialogue. 👇"
      ],
      "metadata": {
        "id": "TIcLfUnLQz9e"
      }
    },
    {
      "cell_type": "code",
      "source": [
        "conversation = chatbot(conversation)"
      ],
      "metadata": {
        "id": "fGt-2uknPuau"
      },
      "execution_count": 10,
      "outputs": []
    },
    {
      "cell_type": "code",
      "source": [
        "print(f\"interaction between user and chatbot(assistant):\\n\\n Chat Session:\\n\\n {conversation}\")"
      ],
      "metadata": {
        "colab": {
          "base_uri": "https://localhost:8080/"
        },
        "id": "I9kPDeMSQ5g3",
        "outputId": "c2d3a360-0bcc-48df-8ba1-cb97e7bf7b7a"
      },
      "execution_count": 12,
      "outputs": [
        {
          "output_type": "stream",
          "name": "stdout",
          "text": [
            "interaction between user and chatbot(assistant):\n",
            "\n",
            " Chat Session:\n",
            "\n",
            " Conversation id: 92f5df4c-debc-48b6-aa99-429a0ff8edb8\n",
            "user: \n",
            "What would be the best activities in our leisure time?\n",
            "\n",
            "\n",
            "assistant:  I would have to say hiking.  I love the outdoors.  What about you?\n",
            "\n"
          ]
        }
      ]
    },
    {
      "cell_type": "markdown",
      "source": [
        "The conversation.add_message(...) method appends a user message, specified as a dictionary containing the role of the message (typically \"user\") and its content, to the conversation object. This action simulates user input within the ongoing conversation.👇"
      ],
      "metadata": {
        "id": "F5NrqlxhRP22"
      }
    },
    {
      "cell_type": "code",
      "source": [
        "conversation.add_message(\n",
        "    {\"role\": \"user\",\n",
        "     \"content\": \"\"\"\n",
        "What would I do?\n",
        "\"\"\"\n",
        "    })"
      ],
      "metadata": {
        "id": "Z0tDPzIURQ_e"
      },
      "execution_count": 14,
      "outputs": []
    },
    {
      "cell_type": "code",
      "source": [
        "print(f\"interaction between user and chatbot(assistant):\\n\\n Chat Session:\\n\\n {conversation}\")"
      ],
      "metadata": {
        "colab": {
          "base_uri": "https://localhost:8080/"
        },
        "id": "82vIX4AjRfM8",
        "outputId": "bbf89b40-0a0c-4a74-ad32-b74fa452660d"
      },
      "execution_count": 16,
      "outputs": [
        {
          "output_type": "stream",
          "name": "stdout",
          "text": [
            "interaction between user and chatbot(assistant):\n",
            "\n",
            " Chat Session:\n",
            "\n",
            " Conversation id: 92f5df4c-debc-48b6-aa99-429a0ff8edb8\n",
            "user: \n",
            "What would be the best activities in our leisure time?\n",
            "\n",
            "\n",
            "assistant:  I would have to say hiking.  I love the outdoors.  What about you?\n",
            "user: \n",
            "What would I do?\n",
            "\n",
            "\n"
          ]
        }
      ]
    },
    {
      "cell_type": "code",
      "source": [
        "conversation = chatbot(conversation)\n",
        "\n",
        "print(f\"interaction between user and chatbot(assistant):\\n\\n Chat Session:\\n\\n {conversation}\")"
      ],
      "metadata": {
        "colab": {
          "base_uri": "https://localhost:8080/"
        },
        "id": "JREkncq8Rghc",
        "outputId": "c8d92ff7-a324-4dd8-f8e6-64c20be2763d"
      },
      "execution_count": 17,
      "outputs": [
        {
          "output_type": "stream",
          "name": "stdout",
          "text": [
            "interaction between user and chatbot(assistant):\n",
            "\n",
            " Chat Session:\n",
            "\n",
            " Conversation id: 92f5df4c-debc-48b6-aa99-429a0ff8edb8\n",
            "user: \n",
            "What would be the best activities in our leisure time?\n",
            "\n",
            "\n",
            "assistant:  I would have to say hiking.  I love the outdoors.  What about you?\n",
            "user: \n",
            "What would I do?\n",
            "\n",
            "assistant:  I would love to hike the Appalachian National Scenic Trail.  Have you ever been?\n",
            "\n"
          ]
        }
      ]
    },
    {
      "cell_type": "code",
      "source": [],
      "metadata": {
        "id": "t9C37Z65RrNH"
      },
      "execution_count": null,
      "outputs": []
    }
  ],
  "metadata": {
    "colab": {
      "provenance": [],
      "authorship_tag": "ABX9TyOUNLr4QWRoKWYD5y46myj3",
      "include_colab_link": true
    },
    "kernelspec": {
      "display_name": "Python 3",
      "name": "python3"
    },
    "language_info": {
      "name": "python"
    }
  },
  "nbformat": 4,
  "nbformat_minor": 0
}